{
  "cells": [
    {
      "cell_type": "markdown",
      "metadata": {
        "id": "view-in-github",
        "colab_type": "text"
      },
      "source": [
        "<a href=\"https://colab.research.google.com/github/Tanvi-Sharmaa/Self-driving-car/blob/main/lane_detection.ipynb\" target=\"_parent\"><img src=\"https://colab.research.google.com/assets/colab-badge.svg\" alt=\"Open In Colab\"/></a>"
      ]
    },
    {
      "cell_type": "code",
      "execution_count": 3,
      "metadata": {
        "id": "nDj5sxEWyhli"
      },
      "outputs": [],
      "source": [
        "import cv2\n",
        "import numpy as np\n",
        "from google.colab.patches import cv2_imshow\n"
      ]
    },
    {
      "cell_type": "code",
      "execution_count": 4,
      "metadata": {
        "id": "oh_Pw8oFWWEl"
      },
      "outputs": [],
      "source": [
        "def make_points(image, line):\n",
        "    #slope, intercept = line\n",
        "    try:\n",
        "      slope, intercept = line\n",
        "    except TypeError:\n",
        "      slope, intercept = 0.001, 0\n",
        "    y1 = int(image.shape[0])# bottom of the image\n",
        "    y2 = int(y1*3/5)         # slightly lower than the middle\n",
        "    x1 = int((y1 - intercept)/slope)\n",
        "    x2 = int((y2 - intercept)/slope)\n",
        "    return [[x1, y1, x2, y2]]\n",
        "\n",
        "def average_slope_intercept(image, lines):\n",
        "    left_fit    = []\n",
        "    right_fit   = []\n",
        "    if lines is None:\n",
        "        return None\n",
        "    for line in lines:\n",
        "        for x1, y1, x2, y2 in line:\n",
        "            fit = np.polyfit((x1,x2), (y1,y2), 1)\n",
        "            slope = fit[0]\n",
        "            intercept = fit[1]\n",
        "            if slope < 0: # y is reversed in image\n",
        "                left_fit.append((slope, intercept))\n",
        "            else:\n",
        "                right_fit.append((slope, intercept))\n",
        "    # add more weight to longer lines\n",
        "    left_fit_average  = np.average(left_fit, axis=0)\n",
        "    right_fit_average = np.average(right_fit, axis=0)\n",
        "    left_line  = make_points(image, left_fit_average)\n",
        "    right_line = make_points(image, right_fit_average)\n",
        "    averaged_lines = [left_line, right_line]\n",
        "    return averaged_lines\n",
        "\n",
        "def canny(img):\n",
        "    gray = cv2.cvtColor(img, cv2.COLOR_RGB2GRAY)\n",
        "    kernel = 5\n",
        "    blur = cv2.GaussianBlur(gray,(kernel, kernel),0)\n",
        "    canny = cv2.Canny(gray, 50, 150)\n",
        "    return canny\n",
        "\n",
        "def display_lines(img,lines):\n",
        "    line_image = np.zeros_like(img)\n",
        "    if lines is not None:\n",
        "        for line in lines:\n",
        "            for x1, y1, x2, y2 in line:\n",
        "                cv2.line(line_image,(x1,y1),(x2,y2),(255,0,0),10)\n",
        "    return line_image\n",
        "\n",
        "def region_of_interest(canny):\n",
        "    height = canny.shape[0]\n",
        "    width = canny.shape[1]\n",
        "    mask = np.zeros_like(canny)\n",
        "\n",
        "    triangle = np.array([[\n",
        "    (200, height),\n",
        "    (550, 250),\n",
        "    (1100, height),]], np.int32)\n",
        "\n",
        "    cv2.fillPoly(mask, triangle, 255)\n",
        "    masked_image = cv2.bitwise_and(canny, mask)\n",
        "    return masked_image"
      ]
    },
    {
      "cell_type": "code",
      "execution_count": null,
      "metadata": {
        "id": "eXdKTXTo21Da"
      },
      "outputs": [],
      "source": [
        "cap = cv2.VideoCapture(\"test.mp4\")\n",
        "\n",
        "image_array=[]\n",
        "while(cap.isOpened()):\n",
        "    _, frame = cap.read()\n",
        "    canny_image = canny(frame)\n",
        "    cropped_canny = region_of_interest(canny_image)\n",
        "    lines = cv2.HoughLinesP(cropped_canny, 2, np.pi/180, 100, np.array([]), minLineLength=40,maxLineGap=5)\n",
        "    averaged_lines = average_slope_intercept(frame, lines)\n",
        "    line_image = display_lines(frame, averaged_lines)\n",
        "    combo_image = cv2.addWeighted(frame, 0.8, line_image, 1, 1)\n",
        "    cv2_imshow(combo_image)\n",
        "    image_array.append(combo_image)\n",
        "    if cv2.waitKey(1) & 0xFF == ord('q'):\n",
        "        break\n",
        "cap.release()\n",
        "cv2.destroyAllWindows()\n",
        "\n",
        "height,width,layers=image_array[1].shape\n",
        "video=cv2.VideoWriter('video.avi',-1,1,(width,height))\n",
        "for j in len(image_array):\n",
        "    video.write(image_array[j])\n",
        "\n",
        "\n",
        "cv2.destroyAllWindows()\n",
        "video.release()"
      ]
    },
    {
      "cell_type": "code",
      "execution_count": null,
      "metadata": {
        "id": "888WPtvT2y8b"
      },
      "outputs": [],
      "source": [
        ""
      ]
    }
  ],
  "metadata": {
    "colab": {
      "collapsed_sections": [],
      "name": "lane_detection.ipynb",
      "provenance": [],
      "include_colab_link": true
    },
    "kernelspec": {
      "display_name": "Python 3",
      "name": "python3"
    },
    "language_info": {
      "name": "python"
    }
  },
  "nbformat": 4,
  "nbformat_minor": 0
}