{
  "cells": [
    {
      "cell_type": "markdown",
      "metadata": {
        "id": "view-in-github",
        "colab_type": "text"
      },
      "source": [
        "<a href=\"https://colab.research.google.com/github/Tanvi-Sharmaa/Self-driving-car/blob/main/YOLOv3_object_detection.ipynb\" target=\"_parent\"><img src=\"https://colab.research.google.com/assets/colab-badge.svg\" alt=\"Open In Colab\"/></a>"
      ]
    },
    {
      "cell_type": "markdown",
      "metadata": {
        "id": "ngQsy2AT256U"
      },
      "source": [
        "# Cloning and Building Darknet\n",
        "\n",
        "The following cells will clone darknet from AlexeyAB's famous repository, adjust the Makefile to enable OPENCV and GPU for darknet and then build darknet."
      ]
    },
    {
      "cell_type": "code",
      "source": [
        "!apt-get install -y xvfb # Install X Virtual Frame Buffer\n",
        "import os\n",
        "os.system('Xvfb :1 -screen 0 1600x1200x16  &')    # create virtual display with size 1600x1200 and 16 bit color. Color can be changed to 24 or 8\n",
        "os.environ['DISPLAY']=':1.0'    # tell X clients to use our virtual DISPLAY :1.0"
      ],
      "metadata": {
        "id": "UJ_72Wj8wiP_"
      },
      "execution_count": null,
      "outputs": []
    },
    {
      "cell_type": "code",
      "execution_count": null,
      "metadata": {
        "id": "HCs4VQmESACk"
      },
      "outputs": [],
      "source": [
        "# clone darknet repo\n",
        "!git clone https://github.com/AlexeyAB/darknet"
      ]
    },
    {
      "cell_type": "code",
      "execution_count": null,
      "metadata": {
        "id": "5H-Taj06Tw1c"
      },
      "outputs": [],
      "source": [
        "# change makefile to have GPU and OPENCV enabled\n",
        "%cd darknet\n",
        "!sed -i 's/OPENCV=0/OPENCV=1/' Makefile\n",
        "!sed -i 's/GPU=0/GPU=1/' Makefile\n",
        "!sed -i 's/CUDNN=0/CUDNN=1/' Makefile"
      ]
    },
    {
      "cell_type": "code",
      "execution_count": null,
      "metadata": {
        "id": "aNv1UHwXZK57"
      },
      "outputs": [],
      "source": [
        "# verify CUDA\n",
        "!/usr/local/cuda/bin/nvcc --version"
      ]
    },
    {
      "cell_type": "code",
      "execution_count": null,
      "metadata": {
        "id": "3DWRrVatZZZg"
      },
      "outputs": [],
      "source": [
        "# make darknet (build)\n",
        "!make"
      ]
    },
    {
      "cell_type": "markdown",
      "metadata": {
        "id": "47-d_3xy36U9"
      },
      "source": [
        "# Download pretrained YOLOv3 weights\n",
        "YOLOv3 has been trained already on the coco dataset which has 80 classes that it can predict. download these pretrained weights so that we can run YOLOv3 on these pretrained classes and get detections."
      ]
    },
    {
      "cell_type": "code",
      "execution_count": null,
      "metadata": {
        "id": "9QDHhDMgZTE9"
      },
      "outputs": [],
      "source": [
        "# get yolov3 pretrained coco dataset weights\n",
        "!wget https://pjreddie.com/media/files/yolov3.weights"
      ]
    },
    {
      "cell_type": "code",
      "execution_count": null,
      "metadata": {
        "id": "w4Pm0VoqmGia"
      },
      "outputs": [],
      "source": [
        "# define helper functions\n",
        "def imShow(path):\n",
        "  import cv2\n",
        "  import matplotlib.pyplot as plt\n",
        "  %matplotlib inline \n",
        "\n",
        "  image = cv2.imread(path)\n",
        "  height, width = image.shape[:2]\n",
        "  resized_image = cv2.resize(image,(3*width, 3*height), interpolation = cv2.INTER_CUBIC) # to zoom img\n",
        "\n",
        "  fig = plt.gcf() #to get current fig\n",
        "  fig.set_size_inches(18, 10)\n",
        "  plt.axis(\"off\")\n",
        "  plt.imshow(cv2.cvtColor(resized_image, cv2.COLOR_BGR2RGB)) # changes from brg to rgb\n",
        "  plt.show()\n",
        "\n",
        "# use this to upload files\n",
        "def upload():\n",
        "  from google.colab import files\n",
        "  uploaded = files.upload() \n",
        "  for name, data in uploaded.items():\n",
        "    with open(name, 'wb') as f: #writing file in binary mode\n",
        "      f.write(data)\n",
        "      print ('saved file', name)\n",
        "\n",
        "# use this to download a file  \n",
        "def download(path):\n",
        "  from google.colab import files\n",
        "  files.download(path)"
      ]
    },
    {
      "cell_type": "code",
      "source": [
        "import cv2"
      ],
      "metadata": {
        "id": "1IzzGX_j4sQi"
      },
      "execution_count": null,
      "outputs": []
    },
    {
      "cell_type": "code",
      "source": [
        "%ls"
      ],
      "metadata": {
        "colab": {
          "base_uri": "https://localhost:8080/"
        },
        "id": "aObxbUa56gOp",
        "outputId": "3367e8fd-6b88-4712-f836-0832e409c15d"
      },
      "execution_count": null,
      "outputs": [
        {
          "output_type": "stream",
          "name": "stdout",
          "text": [
            "\u001b[0m\u001b[01;34m3rdparty\u001b[0m/               darknet.py              \u001b[01;32mnet_cam_v4.sh\u001b[0m*\n",
            "\u001b[01;34mbackup\u001b[0m/                 darknet_video.py        \u001b[01;34mobj\u001b[0m/\n",
            "\u001b[01;34mbuild\u001b[0m/                  \u001b[01;34mdata\u001b[0m/                   README.md\n",
            "\u001b[01;32mbuild.ps1\u001b[0m*              \u001b[01;32mimage_yolov3.sh\u001b[0m*        \u001b[01;34mresults\u001b[0m/\n",
            "\u001b[01;34mcfg\u001b[0m/                    \u001b[01;32mimage_yolov4.sh\u001b[0m*        \u001b[01;34mscripts\u001b[0m/\n",
            "\u001b[01;34mcmake\u001b[0m/                  \u001b[01;34minclude\u001b[0m/                \u001b[01;34msrc\u001b[0m/\n",
            "CMakeLists.txt          \u001b[01;32mjson_mjpeg_streams.sh\u001b[0m*  vcpkg.json\n",
            "\u001b[01;32mdarknet\u001b[0m*                LICENSE                 \u001b[01;32mvideo_yolov3.sh\u001b[0m*\n",
            "DarknetConfig.cmake.in  Makefile                \u001b[01;32mvideo_yolov4.sh\u001b[0m*\n",
            "darknet_images.py       \u001b[01;32mnet_cam_v3.sh\u001b[0m*          yolov3.weights\n"
          ]
        }
      ]
    },
    {
      "cell_type": "code",
      "source": [
        "from google.colab.patches import cv2_imshow"
      ],
      "metadata": {
        "id": "trnQULtM8ocg"
      },
      "execution_count": null,
      "outputs": []
    },
    {
      "cell_type": "code",
      "source": [
        "def str2int(video_path):\n",
        "    \"\"\"\n",
        "    argparse returns and string althout webcam uses int (0, 1 ...)\n",
        "    Cast to int if needed\n",
        "    \"\"\"\n",
        "    try:\n",
        "        return int(video_path)\n",
        "    except ValueError:\n",
        "        return video_path\n",
        "\n",
        "cap = cv2.VideoCapture('/content/tst.mp4')\n",
        "video_width = int(cap.get(cv2.CAP_PROP_FRAME_WIDTH))\n",
        "video_height = int(cap.get(cv2.CAP_PROP_FRAME_HEIGHT))\n",
        "while cap.isOpened():\n",
        "        ret, frame = cap.read()\n",
        "        if not ret:\n",
        "            break\n",
        "        frame_rgb = cv2.cvtColor(frame, cv2.COLOR_BGR2RGB)\n",
        "        cv2.imwrite(\"data/predictions.jpg\",frame_rgb)\n",
        "        !./darknet detect cfg/yolov3.cfg yolov3.weights data/predictions.jpg\n",
        "        imShow('predictions.jpg')\n",
        "cap.release()"
      ],
      "metadata": {
        "id": "WWNTdcvz4gpq"
      },
      "execution_count": null,
      "outputs": []
    },
    {
      "cell_type": "code",
      "source": [
        "# USED TO TEST OBJECT DETECTION ON USER SPECIFIED VIDEO \n",
        "# CHANGE PATH OF VIDEO FROM /CONTENT/TST.MP4 TO FULL PATH OF REQUIRED VIDEO \n",
        "# WILL SAVE RESULT VIDEO TO RESULTS.AVI IN CONTENT FOLDER\n",
        "\n",
        "!./darknet detector demo ./cfg/coco.data ./cfg/yolov3.cfg ./yolov3.weights /content/tst.mp4 -i 0 -ext_output"
      ],
      "metadata": {
        "id": "TVuQhgnJmbNO"
      },
      "execution_count": null,
      "outputs": []
    },
    {
      "cell_type": "code",
      "source": [
        "%ls"
      ],
      "metadata": {
        "id": "aQzf1hhL_JMl"
      },
      "execution_count": null,
      "outputs": []
    },
    {
      "cell_type": "code",
      "source": [
        "!./darknet detect cfg/yolov3.cfg yolov3.weights /darknet/data/dog.jpg\n",
        "imShow('predictions.jpg')"
      ],
      "metadata": {
        "id": "MRRfzIe1QAvi"
      },
      "execution_count": null,
      "outputs": []
    }
  ],
  "metadata": {
    "accelerator": "GPU",
    "colab": {
      "collapsed_sections": [],
      "name": "yolo_final.ipynb",
      "provenance": [],
      "include_colab_link": true
    },
    "kernelspec": {
      "display_name": "Python 3",
      "name": "python3"
    }
  },
  "nbformat": 4,
  "nbformat_minor": 0
}